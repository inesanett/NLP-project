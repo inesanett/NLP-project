{
 "cells": [
  {
   "cell_type": "markdown",
   "id": "66e8328c",
   "metadata": {},
   "source": [
    "# Fasttext model"
   ]
  },
  {
   "cell_type": "code",
   "execution_count": 2,
   "id": "d2a43f12",
   "metadata": {},
   "outputs": [
    {
     "name": "stderr",
     "output_type": "stream",
     "text": [
      "C:\\Users\\karolinr\\Anaconda3\\envs\\nlp\\lib\\site-packages\\tqdm\\auto.py:21: TqdmWarning: IProgress not found. Please update jupyter and ipywidgets. See https://ipywidgets.readthedocs.io/en/stable/user_install.html\n",
      "  from .autonotebook import tqdm as notebook_tqdm\n",
      "None of PyTorch, TensorFlow >= 2.0, or Flax have been found. Models won't be available and only tokenizers, configuration and file/data utilities can be used.\n"
     ]
    }
   ],
   "source": [
    "import pandas as pd\n",
    "import nltk\n",
    "from nltk.tokenize import word_tokenize\n",
    "from string import punctuation\n",
    "import fasttext\n",
    "import evaluate\n",
    "from sklearn.metrics import classification_report\n",
    "from datasets.dataset_dict import DatasetDict\n",
    "from datasets import Dataset, load_dataset"
   ]
  },
  {
   "cell_type": "code",
   "execution_count": 1,
   "id": "227c650a",
   "metadata": {},
   "outputs": [],
   "source": [
    "#pip install datasets==2.12.0\n",
    "#pip install fasttext==0.9.2"
   ]
  },
  {
   "cell_type": "code",
   "execution_count": 3,
   "id": "9dc5f654",
   "metadata": {},
   "outputs": [
    {
     "name": "stderr",
     "output_type": "stream",
     "text": [
      "[nltk_data] Downloading package punkt to\n",
      "[nltk_data]     C:\\Users\\karolinr\\AppData\\Roaming\\nltk_data...\n",
      "[nltk_data]   Package punkt is already up-to-date!\n"
     ]
    },
    {
     "data": {
      "text/plain": [
       "True"
      ]
     },
     "execution_count": 3,
     "metadata": {},
     "output_type": "execute_result"
    }
   ],
   "source": [
    "nltk.download(\"punkt\")"
   ]
  },
  {
   "cell_type": "code",
   "execution_count": null,
   "id": "e55251b0",
   "metadata": {},
   "outputs": [],
   "source": []
  },
  {
   "cell_type": "code",
   "execution_count": 4,
   "id": "9b4e51a1",
   "metadata": {},
   "outputs": [],
   "source": [
    "train = pd.read_csv(\"data/train.csv\")"
   ]
  },
  {
   "cell_type": "code",
   "execution_count": 6,
   "id": "3d103474",
   "metadata": {},
   "outputs": [],
   "source": [
    "valid = pd.read_csv(\"data/valid.csv\")\n",
    "test = pd.read_csv(\"data/test.csv\")"
   ]
  },
  {
   "cell_type": "code",
   "execution_count": 7,
   "id": "4473316e",
   "metadata": {},
   "outputs": [
    {
     "data": {
      "text/html": [
       "<div>\n",
       "<style scoped>\n",
       "    .dataframe tbody tr th:only-of-type {\n",
       "        vertical-align: middle;\n",
       "    }\n",
       "\n",
       "    .dataframe tbody tr th {\n",
       "        vertical-align: top;\n",
       "    }\n",
       "\n",
       "    .dataframe thead th {\n",
       "        text-align: right;\n",
       "    }\n",
       "</style>\n",
       "<table border=\"1\" class=\"dataframe\">\n",
       "  <thead>\n",
       "    <tr style=\"text-align: right;\">\n",
       "      <th></th>\n",
       "      <th>book_id</th>\n",
       "      <th>review_id</th>\n",
       "      <th>num_spoiler_sentences</th>\n",
       "      <th>num_sentences</th>\n",
       "      <th>id</th>\n",
       "      <th>label</th>\n",
       "      <th>sentence</th>\n",
       "    </tr>\n",
       "  </thead>\n",
       "  <tbody>\n",
       "    <tr>\n",
       "      <th>0</th>\n",
       "      <td>8607205</td>\n",
       "      <td>6a5bc2f7767e0884bc0c01c94e9818f3</td>\n",
       "      <td>0</td>\n",
       "      <td>17</td>\n",
       "      <td>0</td>\n",
       "      <td>0</td>\n",
       "      <td>This book picks up right after Midnight, with ...</td>\n",
       "    </tr>\n",
       "    <tr>\n",
       "      <th>1</th>\n",
       "      <td>8607205</td>\n",
       "      <td>6a5bc2f7767e0884bc0c01c94e9818f3</td>\n",
       "      <td>0</td>\n",
       "      <td>17</td>\n",
       "      <td>1</td>\n",
       "      <td>0</td>\n",
       "      <td>I wasn't planning to read another Vampire Diar...</td>\n",
       "    </tr>\n",
       "    <tr>\n",
       "      <th>2</th>\n",
       "      <td>8607205</td>\n",
       "      <td>6a5bc2f7767e0884bc0c01c94e9818f3</td>\n",
       "      <td>0</td>\n",
       "      <td>17</td>\n",
       "      <td>2</td>\n",
       "      <td>0</td>\n",
       "      <td>I finished the last trilogy mostly out of loya...</td>\n",
       "    </tr>\n",
       "    <tr>\n",
       "      <th>3</th>\n",
       "      <td>8607205</td>\n",
       "      <td>6a5bc2f7767e0884bc0c01c94e9818f3</td>\n",
       "      <td>0</td>\n",
       "      <td>17</td>\n",
       "      <td>3</td>\n",
       "      <td>0</td>\n",
       "      <td>This one's a small step back in the right dire...</td>\n",
       "    </tr>\n",
       "    <tr>\n",
       "      <th>4</th>\n",
       "      <td>8607205</td>\n",
       "      <td>6a5bc2f7767e0884bc0c01c94e9818f3</td>\n",
       "      <td>0</td>\n",
       "      <td>17</td>\n",
       "      <td>4</td>\n",
       "      <td>0</td>\n",
       "      <td>Phantom has a stripped down plot and tighter w...</td>\n",
       "    </tr>\n",
       "  </tbody>\n",
       "</table>\n",
       "</div>"
      ],
      "text/plain": [
       "   book_id                         review_id  num_spoiler_sentences  \\\n",
       "0  8607205  6a5bc2f7767e0884bc0c01c94e9818f3                      0   \n",
       "1  8607205  6a5bc2f7767e0884bc0c01c94e9818f3                      0   \n",
       "2  8607205  6a5bc2f7767e0884bc0c01c94e9818f3                      0   \n",
       "3  8607205  6a5bc2f7767e0884bc0c01c94e9818f3                      0   \n",
       "4  8607205  6a5bc2f7767e0884bc0c01c94e9818f3                      0   \n",
       "\n",
       "   num_sentences  id  label                                           sentence  \n",
       "0             17   0      0  This book picks up right after Midnight, with ...  \n",
       "1             17   1      0  I wasn't planning to read another Vampire Diar...  \n",
       "2             17   2      0  I finished the last trilogy mostly out of loya...  \n",
       "3             17   3      0  This one's a small step back in the right dire...  \n",
       "4             17   4      0  Phantom has a stripped down plot and tighter w...  "
      ]
     },
     "execution_count": 7,
     "metadata": {},
     "output_type": "execute_result"
    }
   ],
   "source": [
    "train.head()"
   ]
  },
  {
   "cell_type": "code",
   "execution_count": 8,
   "id": "6e0d766e",
   "metadata": {},
   "outputs": [
    {
     "name": "stdout",
     "output_type": "stream",
     "text": [
      "<class 'pandas.core.frame.DataFrame'>\n",
      "RangeIndex: 2257630 entries, 0 to 2257629\n",
      "Data columns (total 7 columns):\n",
      " #   Column                 Dtype \n",
      "---  ------                 ----- \n",
      " 0   book_id                int64 \n",
      " 1   review_id              object\n",
      " 2   num_spoiler_sentences  int64 \n",
      " 3   num_sentences          int64 \n",
      " 4   id                     int64 \n",
      " 5   label                  int64 \n",
      " 6   sentence               object\n",
      "dtypes: int64(5), object(2)\n",
      "memory usage: 120.6+ MB\n"
     ]
    }
   ],
   "source": [
    "train.info()"
   ]
  },
  {
   "cell_type": "code",
   "execution_count": 5,
   "id": "d45c83ca",
   "metadata": {},
   "outputs": [
    {
     "data": {
      "text/html": [
       "<div>\n",
       "<style scoped>\n",
       "    .dataframe tbody tr th:only-of-type {\n",
       "        vertical-align: middle;\n",
       "    }\n",
       "\n",
       "    .dataframe tbody tr th {\n",
       "        vertical-align: top;\n",
       "    }\n",
       "\n",
       "    .dataframe thead th {\n",
       "        text-align: right;\n",
       "    }\n",
       "</style>\n",
       "<table border=\"1\" class=\"dataframe\">\n",
       "  <thead>\n",
       "    <tr style=\"text-align: right;\">\n",
       "      <th></th>\n",
       "      <th>book_id</th>\n",
       "      <th>review_id</th>\n",
       "      <th>num_spoiler_sentences</th>\n",
       "      <th>num_sentences</th>\n",
       "      <th>id</th>\n",
       "      <th>label</th>\n",
       "      <th>sentence</th>\n",
       "    </tr>\n",
       "  </thead>\n",
       "  <tbody>\n",
       "    <tr>\n",
       "      <th>721679</th>\n",
       "      <td>15762657</td>\n",
       "      <td>b1d805936bb42513e06649cf3328822f</td>\n",
       "      <td>0</td>\n",
       "      <td>19</td>\n",
       "      <td>721679</td>\n",
       "      <td>0</td>\n",
       "      <td>NaN</td>\n",
       "    </tr>\n",
       "    <tr>\n",
       "      <th>1044412</th>\n",
       "      <td>26858707</td>\n",
       "      <td>e4bebb8141db8a07a1a00740da14ed4c</td>\n",
       "      <td>1</td>\n",
       "      <td>26</td>\n",
       "      <td>1044412</td>\n",
       "      <td>0</td>\n",
       "      <td>NaN</td>\n",
       "    </tr>\n",
       "    <tr>\n",
       "      <th>1690171</th>\n",
       "      <td>1421990</td>\n",
       "      <td>d4e5461ba5ee3296c3cadc4acbcbd1e0</td>\n",
       "      <td>0</td>\n",
       "      <td>46</td>\n",
       "      <td>1690171</td>\n",
       "      <td>0</td>\n",
       "      <td>NaN</td>\n",
       "    </tr>\n",
       "    <tr>\n",
       "      <th>1943397</th>\n",
       "      <td>10866624</td>\n",
       "      <td>747d1edbc7915ba83fc14b9ed9cdcba2</td>\n",
       "      <td>25</td>\n",
       "      <td>35</td>\n",
       "      <td>1943397</td>\n",
       "      <td>1</td>\n",
       "      <td>NaN</td>\n",
       "    </tr>\n",
       "  </tbody>\n",
       "</table>\n",
       "</div>"
      ],
      "text/plain": [
       "          book_id                         review_id  num_spoiler_sentences  \\\n",
       "721679   15762657  b1d805936bb42513e06649cf3328822f                      0   \n",
       "1044412  26858707  e4bebb8141db8a07a1a00740da14ed4c                      1   \n",
       "1690171   1421990  d4e5461ba5ee3296c3cadc4acbcbd1e0                      0   \n",
       "1943397  10866624  747d1edbc7915ba83fc14b9ed9cdcba2                     25   \n",
       "\n",
       "         num_sentences       id  label sentence  \n",
       "721679              19   721679      0      NaN  \n",
       "1044412             26  1044412      0      NaN  \n",
       "1690171             46  1690171      0      NaN  \n",
       "1943397             35  1943397      1      NaN  "
      ]
     },
     "execution_count": 5,
     "metadata": {},
     "output_type": "execute_result"
    }
   ],
   "source": [
    "train[train[\"sentence\"].isna()]"
   ]
  },
  {
   "cell_type": "code",
   "execution_count": 11,
   "id": "09dc0d11",
   "metadata": {},
   "outputs": [
    {
     "data": {
      "text/plain": [
       "0"
      ]
     },
     "execution_count": 11,
     "metadata": {},
     "output_type": "execute_result"
    }
   ],
   "source": [
    "len(train[train[\"sentence\"].isna()])"
   ]
  },
  {
   "cell_type": "code",
   "execution_count": 10,
   "id": "22be8e39",
   "metadata": {},
   "outputs": [],
   "source": [
    "train = train.dropna()"
   ]
  },
  {
   "cell_type": "code",
   "execution_count": 12,
   "id": "268de403",
   "metadata": {},
   "outputs": [],
   "source": [
    "valid = valid.dropna()\n",
    "test = test.dropna()"
   ]
  },
  {
   "cell_type": "code",
   "execution_count": 29,
   "id": "bf3f054f",
   "metadata": {},
   "outputs": [],
   "source": [
    "#data_files = {\"train\": \"train.csv\", \"validation\": \"valid.csv\", \"test\": \"test.csv\"}"
   ]
  },
  {
   "cell_type": "code",
   "execution_count": 20,
   "id": "bf173a04",
   "metadata": {},
   "outputs": [],
   "source": [
    "train_dataset = Dataset.from_dict(train)\n",
    "valid_dataset = Dataset.from_dict(valid)\n",
    "test_dataset = Dataset.from_dict(test)\n",
    "dataset = DatasetDict({\"train\": train_dataset, \"validation\": valid_dataset, \"test\": test_dataset})"
   ]
  },
  {
   "cell_type": "code",
   "execution_count": null,
   "id": "72633e87",
   "metadata": {},
   "outputs": [],
   "source": []
  },
  {
   "cell_type": "code",
   "execution_count": 18,
   "id": "076397ad",
   "metadata": {},
   "outputs": [],
   "source": [
    "#dataset = load_dataset(\"data\", data_files = data_files)"
   ]
  },
  {
   "cell_type": "code",
   "execution_count": 21,
   "id": "34eaad3a",
   "metadata": {},
   "outputs": [
    {
     "data": {
      "text/plain": [
       "DatasetDict({\n",
       "    train: Dataset({\n",
       "        features: ['book_id', 'review_id', 'num_spoiler_sentences', 'num_sentences', 'id', 'label', 'sentence'],\n",
       "        num_rows: 2257626\n",
       "    })\n",
       "    validation: Dataset({\n",
       "        features: ['book_id', 'review_id', 'num_spoiler_sentences', 'num_sentences', 'id', 'label', 'sentence'],\n",
       "        num_rows: 475716\n",
       "    })\n",
       "    test: Dataset({\n",
       "        features: ['book_id', 'review_id', 'num_spoiler_sentences', 'num_sentences', 'id', 'label', 'sentence'],\n",
       "        num_rows: 484873\n",
       "    })\n",
       "})"
      ]
     },
     "execution_count": 21,
     "metadata": {},
     "output_type": "execute_result"
    }
   ],
   "source": [
    "dataset"
   ]
  },
  {
   "cell_type": "code",
   "execution_count": 22,
   "id": "e3190651",
   "metadata": {},
   "outputs": [
    {
     "data": {
      "text/plain": [
       "{'book_id': 8607205,\n",
       " 'review_id': '6a5bc2f7767e0884bc0c01c94e9818f3',\n",
       " 'num_spoiler_sentences': 0,\n",
       " 'num_sentences': 17,\n",
       " 'id': 0,\n",
       " 'label': 0,\n",
       " 'sentence': \"This book picks up right after Midnight, with the main characters back in a Falls Church that's been reset to make it appear as if Elena, Stefan, and their friends had a normal senior year.\"}"
      ]
     },
     "execution_count": 22,
     "metadata": {},
     "output_type": "execute_result"
    }
   ],
   "source": [
    "dataset[\"train\"][0]"
   ]
  },
  {
   "cell_type": "code",
   "execution_count": null,
   "id": "a0f3b683",
   "metadata": {},
   "outputs": [],
   "source": []
  },
  {
   "cell_type": "markdown",
   "id": "e77c1ace",
   "metadata": {},
   "source": [
    "## Preprocessing"
   ]
  },
  {
   "cell_type": "code",
   "execution_count": 27,
   "id": "18e15051",
   "metadata": {},
   "outputs": [],
   "source": [
    "# Removing punctuations and lowercasing words\n",
    "def preprocess(sentence):\n",
    "    punctuations = punctuation + '’“”'\n",
    "    no_punct = [word.lower() for word in word_tokenize(sentence) if word not in punctuations]\n",
    "    new_sentence = \" \".join(no_punct)\n",
    "    # Joining tokens with apostrophe back together\n",
    "    new_sentence = new_sentence.replace(\" n't\", \"n't\").replace(\" 's\", \"'s\").replace(\" 'm\", \"'m\").replace(\" 've\", \"'ve\").replace(\" 'll\", \"'ll\").replace(\" 're\", \"'re\")\n",
    "    return new_sentence\n",
    "\n",
    "# Applying a function in batches\n",
    "def remove_punct_batch(dataset: Dataset):\n",
    "    sentences = dataset[\"sentence\"]\n",
    "    # return a new column `processed`\n",
    "    # this column gets added to the dataset\n",
    "    return {\n",
    "        \"processed\": [preprocess(sentence) for sentence in sentences]\n",
    "    }"
   ]
  },
  {
   "cell_type": "code",
   "execution_count": 28,
   "id": "58a49d2a",
   "metadata": {},
   "outputs": [
    {
     "name": "stderr",
     "output_type": "stream",
     "text": [
      "                                                                                                                       \r"
     ]
    }
   ],
   "source": [
    "# Removing punctuations and lowercasing words\n",
    "dataset = dataset.map(remove_punct_batch, batched = True)"
   ]
  },
  {
   "cell_type": "code",
   "execution_count": 29,
   "id": "5a15eb0a",
   "metadata": {},
   "outputs": [],
   "source": [
    "# Creating columns for text files\n",
    "def label_sent(dataset: Dataset):\n",
    "    texts = [\"__label__\" + str(i) + \" \" + j for i, j in zip(dataset[\"label\"], dataset[\"processed\"])]\n",
    "    return {\n",
    "        \"label_sent\": [text for text in texts]\n",
    "    }"
   ]
  },
  {
   "cell_type": "code",
   "execution_count": 30,
   "id": "f86618df",
   "metadata": {},
   "outputs": [
    {
     "name": "stderr",
     "output_type": "stream",
     "text": [
      "                                                                                                                       \r"
     ]
    }
   ],
   "source": [
    "dataset = dataset.map(label_sent, batched = True)"
   ]
  },
  {
   "cell_type": "code",
   "execution_count": 31,
   "id": "59f50642",
   "metadata": {},
   "outputs": [
    {
     "data": {
      "text/plain": [
       "\"__label__0 this book picks up right after midnight with the main characters back in a falls church that's been reset to make it appear as if elena stefan and their friends had a normal senior year\""
      ]
     },
     "execution_count": 31,
     "metadata": {},
     "output_type": "execute_result"
    }
   ],
   "source": [
    "dataset[\"train\"][\"label_sent\"][0]"
   ]
  },
  {
   "cell_type": "code",
   "execution_count": 32,
   "id": "4c5749ca",
   "metadata": {},
   "outputs": [],
   "source": [
    "train_column = dataset[\"train\"][\"label_sent\"]\n",
    "valid_column = dataset[\"validation\"][\"label_sent\"]\n",
    "test_column = dataset[\"test\"][\"label_sent\"]"
   ]
  },
  {
   "cell_type": "code",
   "execution_count": 35,
   "id": "ec1c46e6",
   "metadata": {},
   "outputs": [
    {
     "name": "stdout",
     "output_type": "stream",
     "text": [
      "2257626\n",
      "475716\n",
      "484873\n"
     ]
    }
   ],
   "source": [
    "print(len(train_column))\n",
    "print(len(valid_column))\n",
    "print(len(test_column))"
   ]
  },
  {
   "cell_type": "code",
   "execution_count": 36,
   "id": "4932bcfa",
   "metadata": {},
   "outputs": [],
   "source": [
    "# Writing out text files\n",
    "with open('train.txt', 'w') as file:\n",
    "    for j in range(0, len(train_column), 1029):\n",
    "        lines = (f'{train_column[i]}\\n' for i in range(j, j + 1029))\n",
    "        file.writelines(lines)"
   ]
  },
  {
   "cell_type": "code",
   "execution_count": 37,
   "id": "8f564239",
   "metadata": {},
   "outputs": [],
   "source": [
    "with open('valid.txt', 'w') as file:\n",
    "    for j in range(0, len(valid_column), 1367):\n",
    "        lines = (f'{valid_column[i]}\\n' for i in range(j, j + 1367))\n",
    "        file.writelines(lines)"
   ]
  },
  {
   "cell_type": "code",
   "execution_count": 38,
   "id": "f03b464e",
   "metadata": {},
   "outputs": [],
   "source": [
    "with open('test.txt', 'w') as file:\n",
    "    for j in range(0, len(test_column), 2081):\n",
    "        lines = (f'{test_column[i]}\\n' for i in range(j, j + 2081))\n",
    "        file.writelines(lines)"
   ]
  },
  {
   "cell_type": "code",
   "execution_count": 39,
   "id": "34040a44",
   "metadata": {},
   "outputs": [
    {
     "name": "stdout",
     "output_type": "stream",
     "text": [
      "Wall time: 1min 1s\n"
     ]
    }
   ],
   "source": [
    "%%time\n",
    "# Model with default parameters\n",
    "model = fasttext.train_supervised(input = \"train.txt\")"
   ]
  },
  {
   "cell_type": "code",
   "execution_count": 40,
   "id": "4add2cc2",
   "metadata": {},
   "outputs": [],
   "source": [
    "predictions = model.predict(dataset[\"validation\"][\"sentence\"])\n",
    "predicted_labels = [eval(predictions[0][i][0][-1]) for i in range(len(predictions[0]))]"
   ]
  },
  {
   "cell_type": "code",
   "execution_count": 43,
   "id": "599ef91e",
   "metadata": {},
   "outputs": [
    {
     "name": "stderr",
     "output_type": "stream",
     "text": [
      "Downloading builder script: 100%|█████████████████████████████████████████████████████████| 6.77k/6.77k [00:00<?, ?B/s]\n"
     ]
    }
   ],
   "source": [
    "f1 = evaluate.load(\"f1\")"
   ]
  },
  {
   "cell_type": "code",
   "execution_count": 44,
   "id": "67747ab7",
   "metadata": {},
   "outputs": [
    {
     "name": "stdout",
     "output_type": "stream",
     "text": [
      "f1 on validation split: {'f1': 0.7712151703071107}\n"
     ]
    }
   ],
   "source": [
    "f1_valid = f1.compute(references = dataset[\"validation\"][\"label\"], predictions = predicted_labels, \n",
    "                      average = \"weighted\")\n",
    "print(\"f1 on validation split:\", f1_valid)"
   ]
  },
  {
   "cell_type": "code",
   "execution_count": 45,
   "id": "a9f7a2b8",
   "metadata": {},
   "outputs": [
    {
     "name": "stdout",
     "output_type": "stream",
     "text": [
      "f1 on test split: {'f1': 0.7710948466932727}\n"
     ]
    }
   ],
   "source": [
    "# Evaluating the model on the test split\n",
    "predictions_test = model.predict(dataset[\"test\"][\"sentence\"])\n",
    "predicted_labels_test = [eval(predictions_test[0][i][0][-1]) for i in range(len(predictions_test[0]))]\n",
    "\n",
    "f1_test = f1.compute(references = dataset[\"test\"][\"label\"], predictions = predicted_labels_test, \n",
    "                      average = \"weighted\")\n",
    "print(\"f1 on test split:\", f1_test)"
   ]
  },
  {
   "cell_type": "code",
   "execution_count": 46,
   "id": "ae5130dc",
   "metadata": {},
   "outputs": [
    {
     "name": "stdout",
     "output_type": "stream",
     "text": [
      "              precision    recall  f1-score   support\n",
      "\n",
      "           0       0.83      0.98      0.90    399496\n",
      "           1       0.52      0.09      0.16     85377\n",
      "\n",
      "    accuracy                           0.83    484873\n",
      "   macro avg       0.68      0.54      0.53    484873\n",
      "weighted avg       0.78      0.83      0.77    484873\n",
      "\n"
     ]
    }
   ],
   "source": [
    "print(classification_report(dataset[\"test\"][\"label\"], predicted_labels_test))"
   ]
  },
  {
   "cell_type": "code",
   "execution_count": 62,
   "id": "07b43eeb",
   "metadata": {},
   "outputs": [],
   "source": [
    "#from sklearn.metrics import roc_auc_score\n",
    "import matplotlib.pyplot as plt\n",
    "import numpy as np\n",
    "#from sklearn import metrics\n",
    "from sklearn.metrics import roc_curve, auc, RocCurveDisplay"
   ]
  },
  {
   "cell_type": "code",
   "execution_count": 49,
   "id": "1a8fad42",
   "metadata": {},
   "outputs": [
    {
     "data": {
      "text/plain": [
       "0.5368909378799942"
      ]
     },
     "execution_count": 49,
     "metadata": {},
     "output_type": "execute_result"
    }
   ],
   "source": [
    "roc_auc_score(dataset[\"test\"][\"label\"], predicted_labels_test)"
   ]
  },
  {
   "cell_type": "code",
   "execution_count": 51,
   "id": "722238fb",
   "metadata": {},
   "outputs": [
    {
     "data": {
      "text/plain": [
       "0.5368909378799942"
      ]
     },
     "execution_count": 51,
     "metadata": {},
     "output_type": "execute_result"
    }
   ],
   "source": [
    "roc_auc_score(dataset[\"test\"][\"label\"], predicted_labels_test, average = \"micro\")"
   ]
  },
  {
   "cell_type": "code",
   "execution_count": 63,
   "id": "e8e99142",
   "metadata": {},
   "outputs": [
    {
     "data": {
      "image/png": "[encoded data removed]",
      "text/plain": [
       "<Figure size 640x480 with 1 Axes>"
      ]
     },
     "metadata": {},
     "output_type": "display_data"
    }
   ],
   "source": [
    "fpr, tpr, thresholds = roc_curve(dataset[\"test\"][\"label\"], predicted_labels_test)\n",
    "roc_auc = auc(fpr, tpr)\n",
    "display = RocCurveDisplay(fpr=fpr, tpr=tpr, roc_auc=roc_auc, estimator_name='fastText')\n",
    "display.plot()\n",
    "plt.plot([0, 1], [0, 1], \"k--\", label=\"chance level (AUC = 0.5)\")\n",
    "plt.legend()\n",
    "plt.show()"
   ]
  },
  {
   "cell_type": "code",
   "execution_count": 64,
   "id": "4c050c12",
   "metadata": {},
   "outputs": [
    {
     "name": "stdout",
     "output_type": "stream",
     "text": [
      "Wall time: 37.7 s\n"
     ]
    }
   ],
   "source": [
    "%%time\n",
    "# Model with lr 0.5\n",
    "model2 = fasttext.train_supervised(input = \"train.txt\", lr = 0.5)"
   ]
  },
  {
   "cell_type": "code",
   "execution_count": 65,
   "id": "d0cccfca",
   "metadata": {},
   "outputs": [],
   "source": [
    "predictions2 = model2.predict(dataset[\"validation\"][\"sentence\"])\n",
    "predicted_labels2 = [eval(predictions2[0][i][0][-1]) for i in range(len(predictions2[0]))]"
   ]
  },
  {
   "cell_type": "code",
   "execution_count": 66,
   "id": "fa04d300",
   "metadata": {},
   "outputs": [
    {
     "name": "stdout",
     "output_type": "stream",
     "text": [
      "f1 on validation split: {'f1': 0.7719017286780449}\n"
     ]
    }
   ],
   "source": [
    "f1_valid2 = f1.compute(references = dataset[\"validation\"][\"label\"], predictions = predicted_labels2, \n",
    "                      average = \"weighted\")\n",
    "print(\"f1 on validation split:\", f1_valid2)"
   ]
  },
  {
   "cell_type": "code",
   "execution_count": 67,
   "id": "50be0494",
   "metadata": {},
   "outputs": [
    {
     "name": "stdout",
     "output_type": "stream",
     "text": [
      "f1 on test split: {'f1': 0.7720871253537583}\n"
     ]
    }
   ],
   "source": [
    "# Evaluating the model on the test split\n",
    "predictions_test2 = model2.predict(dataset[\"test\"][\"sentence\"])\n",
    "predicted_labels_test2 = [eval(predictions_test2[0][i][0][-1]) for i in range(len(predictions_test2[0]))]\n",
    "\n",
    "f1_test2 = f1.compute(references = dataset[\"test\"][\"label\"], predictions = predicted_labels_test2, \n",
    "                      average = \"weighted\")\n",
    "print(\"f1 on test split:\", f1_test2)"
   ]
  },
  {
   "cell_type": "code",
   "execution_count": 68,
   "id": "8eff655c",
   "metadata": {},
   "outputs": [
    {
     "name": "stdout",
     "output_type": "stream",
     "text": [
      "              precision    recall  f1-score   support\n",
      "\n",
      "           0       0.84      0.98      0.90    399496\n",
      "           1       0.51      0.10      0.16     85377\n",
      "\n",
      "    accuracy                           0.82    484873\n",
      "   macro avg       0.67      0.54      0.53    484873\n",
      "weighted avg       0.78      0.82      0.77    484873\n",
      "\n"
     ]
    }
   ],
   "source": [
    "print(classification_report(dataset[\"test\"][\"label\"], predicted_labels_test2))"
   ]
  },
  {
   "cell_type": "code",
   "execution_count": 69,
   "id": "a14f54b6",
   "metadata": {},
   "outputs": [
    {
     "data": {
      "text/plain": [
       "0.5387546747943368"
      ]
     },
     "execution_count": 69,
     "metadata": {},
     "output_type": "execute_result"
    }
   ],
   "source": [
    "roc_auc_score(dataset[\"test\"][\"label\"], predicted_labels_test2)"
   ]
  },
  {
   "cell_type": "code",
   "execution_count": 76,
   "id": "5db5d7dd",
   "metadata": {},
   "outputs": [
    {
     "name": "stdout",
     "output_type": "stream",
     "text": [
      "Wall time: 3min 19s\n"
     ]
    }
   ],
   "source": [
    "%%time\n",
    "# Model with 10 epochs\n",
    "model3 = fasttext.train_supervised(input = \"train.txt\", epoch = 25)"
   ]
  },
  {
   "cell_type": "code",
   "execution_count": 77,
   "id": "0f288a18",
   "metadata": {},
   "outputs": [],
   "source": [
    "predictions3 = model3.predict(dataset[\"validation\"][\"sentence\"])\n",
    "predicted_labels3 = [eval(predictions3[0][i][0][-1]) for i in range(len(predictions3[0]))]"
   ]
  },
  {
   "cell_type": "code",
   "execution_count": 78,
   "id": "fc8803bf",
   "metadata": {},
   "outputs": [
    {
     "name": "stdout",
     "output_type": "stream",
     "text": [
      "f1 on validation split: {'f1': 0.77338093521616}\n"
     ]
    }
   ],
   "source": [
    "f1_valid3 = f1.compute(references = dataset[\"validation\"][\"label\"], predictions = predicted_labels3, \n",
    "                      average = \"weighted\")\n",
    "print(\"f1 on validation split:\", f1_valid3)"
   ]
  },
  {
   "cell_type": "code",
   "execution_count": 79,
   "id": "03db9289",
   "metadata": {},
   "outputs": [
    {
     "name": "stdout",
     "output_type": "stream",
     "text": [
      "f1 on test split: {'f1': 0.7735547369530243}\n"
     ]
    }
   ],
   "source": [
    "# Evaluating the model on the test split\n",
    "predictions_test3 = model3.predict(dataset[\"test\"][\"sentence\"])\n",
    "predicted_labels_test3 = [eval(predictions_test3[0][i][0][-1]) for i in range(len(predictions_test3[0]))]\n",
    "\n",
    "f1_test3 = f1.compute(references = dataset[\"test\"][\"label\"], predictions = predicted_labels_test3, \n",
    "                      average = \"weighted\")\n",
    "print(\"f1 on test split:\", f1_test3)"
   ]
  },
  {
   "cell_type": "code",
   "execution_count": 80,
   "id": "e1ff9c0a",
   "metadata": {},
   "outputs": [
    {
     "name": "stdout",
     "output_type": "stream",
     "text": [
      "              precision    recall  f1-score   support\n",
      "\n",
      "           0       0.84      0.98      0.90    399496\n",
      "           1       0.49      0.11      0.18     85377\n",
      "\n",
      "    accuracy                           0.82    484873\n",
      "   macro avg       0.67      0.54      0.54    484873\n",
      "weighted avg       0.78      0.82      0.77    484873\n",
      "\n"
     ]
    }
   ],
   "source": [
    "print(classification_report(dataset[\"test\"][\"label\"], predicted_labels_test3))"
   ]
  },
  {
   "cell_type": "code",
   "execution_count": 81,
   "id": "de394fc1",
   "metadata": {},
   "outputs": [
    {
     "data": {
      "text/plain": [
       "0.5419728068951968"
      ]
     },
     "execution_count": 81,
     "metadata": {},
     "output_type": "execute_result"
    }
   ],
   "source": [
    "roc_auc_score(dataset[\"test\"][\"label\"], predicted_labels_test3)"
   ]
  },
  {
   "cell_type": "code",
   "execution_count": 82,
   "id": "dc7dd427",
   "metadata": {},
   "outputs": [
    {
     "name": "stdout",
     "output_type": "stream",
     "text": [
      "Wall time: 1min 15s\n"
     ]
    }
   ],
   "source": [
    "%%time\n",
    "# Using word n-grams\n",
    "model_ng1 = fasttext.train_supervised(input = \"train.txt\", wordNgrams = 2)"
   ]
  },
  {
   "cell_type": "code",
   "execution_count": 83,
   "id": "0fbe6bb2",
   "metadata": {},
   "outputs": [],
   "source": [
    "predictions_ng1 = model_ng1.predict(dataset[\"validation\"][\"sentence\"])\n",
    "predicted_labels_ng1 = [eval(predictions_ng1[0][i][0][-1]) for i in range(len(predictions_ng1[0]))]"
   ]
  },
  {
   "cell_type": "code",
   "execution_count": 84,
   "id": "465e0ec5",
   "metadata": {},
   "outputs": [
    {
     "name": "stdout",
     "output_type": "stream",
     "text": [
      "f1 on validation split: {'f1': 0.7871629211871046}\n"
     ]
    }
   ],
   "source": [
    "f1_valid_ng1 = f1.compute(references = dataset[\"validation\"][\"label\"], predictions = predicted_labels_ng1, \n",
    "                      average = \"weighted\")\n",
    "print(\"f1 on validation split:\", f1_valid_ng1)"
   ]
  },
  {
   "cell_type": "code",
   "execution_count": 85,
   "id": "0215ae2c",
   "metadata": {},
   "outputs": [
    {
     "name": "stdout",
     "output_type": "stream",
     "text": [
      "f1 on test split: {'f1': 0.78802004433695}\n"
     ]
    }
   ],
   "source": [
    "# Evaluating the model on the test split\n",
    "predictions_test4 = model_ng1.predict(dataset[\"test\"][\"sentence\"])\n",
    "predicted_labels_test4 = [eval(predictions_test4[0][i][0][-1]) for i in range(len(predictions_test4[0]))]\n",
    "\n",
    "f1_test4 = f1.compute(references = dataset[\"test\"][\"label\"], predictions = predicted_labels_test4, \n",
    "                      average = \"weighted\")\n",
    "print(\"f1 on test split:\", f1_test4)"
   ]
  },
  {
   "cell_type": "code",
   "execution_count": 86,
   "id": "6255b752",
   "metadata": {},
   "outputs": [
    {
     "name": "stdout",
     "output_type": "stream",
     "text": [
      "              precision    recall  f1-score   support\n",
      "\n",
      "           0       0.85      0.95      0.90    399496\n",
      "           1       0.46      0.21      0.29     85377\n",
      "\n",
      "    accuracy                           0.82    484873\n",
      "   macro avg       0.65      0.58      0.59    484873\n",
      "weighted avg       0.78      0.82      0.79    484873\n",
      "\n"
     ]
    }
   ],
   "source": [
    "print(classification_report(dataset[\"test\"][\"label\"], predicted_labels_test4))"
   ]
  },
  {
   "cell_type": "code",
   "execution_count": 87,
   "id": "536c7e22",
   "metadata": {},
   "outputs": [
    {
     "data": {
      "text/plain": [
       "0.5778307245129966"
      ]
     },
     "execution_count": 87,
     "metadata": {},
     "output_type": "execute_result"
    }
   ],
   "source": [
    "roc_auc_score(dataset[\"test\"][\"label\"], predicted_labels_test4)"
   ]
  },
  {
   "cell_type": "code",
   "execution_count": 88,
   "id": "30ea0cc9",
   "metadata": {},
   "outputs": [
    {
     "data": {
      "image/png": "[encoded data removed]",
      "text/plain": [
       "<Figure size 640x480 with 1 Axes>"
      ]
     },
     "metadata": {},
     "output_type": "display_data"
    }
   ],
   "source": [
    "fpr, tpr, thresholds = roc_curve(dataset[\"test\"][\"label\"], predicted_labels_test4)\n",
    "roc_auc = auc(fpr, tpr)\n",
    "display = RocCurveDisplay(fpr=fpr, tpr=tpr, roc_auc=roc_auc, estimator_name='fastText')\n",
    "display.plot()\n",
    "plt.plot([0, 1], [0, 1], \"k--\", label=\"chance level (AUC = 0.5)\")\n",
    "plt.legend()\n",
    "plt.show()"
   ]
  },
  {
   "cell_type": "code",
   "execution_count": 89,
   "id": "ad6567b8",
   "metadata": {},
   "outputs": [
    {
     "name": "stdout",
     "output_type": "stream",
     "text": [
      "Wall time: 3min 44s\n"
     ]
    }
   ],
   "source": [
    "%%time\n",
    "# Model with lr 0.5\n",
    "model5 = fasttext.train_supervised(input = \"train.txt\", lr = 0.5, epoch = 25, wordNgrams = 2)"
   ]
  },
  {
   "cell_type": "code",
   "execution_count": 90,
   "id": "a29f1fce",
   "metadata": {},
   "outputs": [],
   "source": [
    "predictions5 = model5.predict(dataset[\"validation\"][\"sentence\"])\n",
    "predicted_labels5 = [eval(predictions5[0][i][0][-1]) for i in range(len(predictions5[0]))]"
   ]
  },
  {
   "cell_type": "code",
   "execution_count": 91,
   "id": "56b0666c",
   "metadata": {},
   "outputs": [
    {
     "name": "stdout",
     "output_type": "stream",
     "text": [
      "f1 on validation split: {'f1': 0.7562856469281737}\n"
     ]
    }
   ],
   "source": [
    "f1_valid5 = f1.compute(references = dataset[\"validation\"][\"label\"], predictions = predicted_labels5, \n",
    "                      average = \"weighted\")\n",
    "print(\"f1 on validation split:\", f1_valid5)"
   ]
  },
  {
   "cell_type": "code",
   "execution_count": 92,
   "id": "d11c86fa",
   "metadata": {},
   "outputs": [
    {
     "name": "stdout",
     "output_type": "stream",
     "text": [
      "f1 on test split: {'f1': 0.7555500689433823}\n"
     ]
    }
   ],
   "source": [
    "# Evaluating the model on the test split\n",
    "predictions_test5 = model5.predict(dataset[\"test\"][\"sentence\"])\n",
    "predicted_labels_test5 = [eval(predictions_test5[0][i][0][-1]) for i in range(len(predictions_test5[0]))]\n",
    "\n",
    "f1_test5 = f1.compute(references = dataset[\"test\"][\"label\"], predictions = predicted_labels_test5, \n",
    "                      average = \"weighted\")\n",
    "print(\"f1 on test split:\", f1_test5)"
   ]
  },
  {
   "cell_type": "code",
   "execution_count": 93,
   "id": "258b9834",
   "metadata": {},
   "outputs": [
    {
     "name": "stdout",
     "output_type": "stream",
     "text": [
      "              precision    recall  f1-score   support\n",
      "\n",
      "           0       0.85      0.85      0.85    399496\n",
      "           1       0.31      0.31      0.31     85377\n",
      "\n",
      "    accuracy                           0.75    484873\n",
      "   macro avg       0.58      0.58      0.58    484873\n",
      "weighted avg       0.76      0.75      0.76    484873\n",
      "\n"
     ]
    }
   ],
   "source": [
    "print(classification_report(dataset[\"test\"][\"label\"], predicted_labels_test5))"
   ]
  },
  {
   "cell_type": "code",
   "execution_count": 94,
   "id": "7795980a",
   "metadata": {},
   "outputs": [
    {
     "data": {
      "text/plain": [
       "0.5814230320730843"
      ]
     },
     "execution_count": 94,
     "metadata": {},
     "output_type": "execute_result"
    }
   ],
   "source": [
    "roc_auc_score(dataset[\"test\"][\"label\"], predicted_labels_test5)"
   ]
  },
  {
   "cell_type": "code",
   "execution_count": 124,
   "id": "22d40939",
   "metadata": {},
   "outputs": [
    {
     "data": {
      "image/png": "[encoded data removed]",
      "text/plain": [
       "<Figure size 640x480 with 1 Axes>"
      ]
     },
     "metadata": {},
     "output_type": "display_data"
    }
   ],
   "source": [
    "fpr, tpr, thresholds = roc_curve(dataset[\"test\"][\"label\"], predicted_labels_test5)\n",
    "roc_auc = auc(fpr, tpr)\n",
    "display = RocCurveDisplay(fpr=fpr, tpr=tpr, roc_auc=roc_auc, estimator_name='fastText')\n",
    "display.plot()\n",
    "plt.plot([0, 1], [0, 1], \"k--\", label=\"chance level (AUC = 0.5)\")\n",
    "plt.legend()\n",
    "plt.title(\"ROC curve and AUC for fastText model\")\n",
    "plt.show()"
   ]
  },
  {
   "cell_type": "code",
   "execution_count": 117,
   "id": "95502bd3",
   "metadata": {},
   "outputs": [
    {
     "name": "stdout",
     "output_type": "stream",
     "text": [
      "Wall time: 5min\n"
     ]
    }
   ],
   "source": [
    "%%time\n",
    "model6 = fasttext.train_supervised(input = \"train.txt\", lr = 0.5, epoch = 30, wordNgrams = 2)"
   ]
  },
  {
   "cell_type": "code",
   "execution_count": 118,
   "id": "b84f0339",
   "metadata": {},
   "outputs": [],
   "source": [
    "predictions6 = model6.predict(dataset[\"validation\"][\"sentence\"])\n",
    "predicted_labels6 = [eval(predictions6[0][i][0][-1]) for i in range(len(predictions6[0]))]"
   ]
  },
  {
   "cell_type": "code",
   "execution_count": 119,
   "id": "bc888f20",
   "metadata": {},
   "outputs": [
    {
     "name": "stdout",
     "output_type": "stream",
     "text": [
      "f1 on validation split: {'f1': 0.7483544681430766}\n"
     ]
    }
   ],
   "source": [
    "f1_valid6 = f1.compute(references = dataset[\"validation\"][\"label\"], predictions = predicted_labels6, \n",
    "                      average = \"weighted\")\n",
    "print(\"f1 on validation split:\", f1_valid6)"
   ]
  },
  {
   "cell_type": "code",
   "execution_count": 120,
   "id": "244bf631",
   "metadata": {},
   "outputs": [
    {
     "name": "stdout",
     "output_type": "stream",
     "text": [
      "f1 on test split: {'f1': 0.7480238249041039}\n"
     ]
    }
   ],
   "source": [
    "# Evaluating the model on the test split\n",
    "predictions_test6 = model6.predict(dataset[\"test\"][\"sentence\"])\n",
    "predicted_labels_test6 = [eval(predictions_test6[0][i][0][-1]) for i in range(len(predictions_test6[0]))]\n",
    "\n",
    "f1_test6 = f1.compute(references = dataset[\"test\"][\"label\"], predictions = predicted_labels_test6, \n",
    "                      average = \"weighted\")\n",
    "print(\"f1 on test split:\", f1_test6)"
   ]
  },
  {
   "cell_type": "code",
   "execution_count": 121,
   "id": "c2d86419",
   "metadata": {},
   "outputs": [
    {
     "name": "stdout",
     "output_type": "stream",
     "text": [
      "              precision    recall  f1-score   support\n",
      "\n",
      "           0       0.85      0.83      0.84    399496\n",
      "           1       0.29      0.33      0.31     85377\n",
      "\n",
      "    accuracy                           0.74    484873\n",
      "   macro avg       0.57      0.58      0.58    484873\n",
      "weighted avg       0.75      0.74      0.75    484873\n",
      "\n"
     ]
    }
   ],
   "source": [
    "print(classification_report(dataset[\"test\"][\"label\"], predicted_labels_test6))"
   ]
  },
  {
   "cell_type": "code",
   "execution_count": 122,
   "id": "13e06c28",
   "metadata": {},
   "outputs": [
    {
     "data": {
      "text/plain": [
       "0.5792687687624887"
      ]
     },
     "execution_count": 122,
     "metadata": {},
     "output_type": "execute_result"
    }
   ],
   "source": [
    "roc_auc_score(dataset[\"test\"][\"label\"], predicted_labels_test6)"
   ]
  },
  {
   "cell_type": "code",
   "execution_count": 123,
   "id": "06233ab7",
   "metadata": {},
   "outputs": [
    {
     "data": {
      "image/png": "[encoded data removed]",
      "text/plain": [
       "<Figure size 640x480 with 1 Axes>"
      ]
     },
     "metadata": {},
     "output_type": "display_data"
    }
   ],
   "source": [
    "fpr, tpr, thresholds = roc_curve(dataset[\"test\"][\"label\"], predicted_labels_test6)\n",
    "roc_auc = auc(fpr, tpr)\n",
    "display = RocCurveDisplay(fpr=fpr, tpr=tpr, roc_auc=roc_auc, estimator_name='fastText')\n",
    "display.plot()\n",
    "plt.plot([0, 1], [0, 1], \"k--\", label=\"chance level (AUC = 0.5)\")\n",
    "plt.legend()\n",
    "plt.show()"
   ]
  }
 ],
 "metadata": {
  "kernelspec": {
   "display_name": "Python 3 (ipykernel)",
   "language": "python",
   "name": "python3"
  },
  "language_info": {
   "codemirror_mode": {
    "name": "ipython",
    "version": 3
   },
   "file_extension": ".py",
   "mimetype": "text/x-python",
   "name": "python",
   "nbconvert_exporter": "python",
   "pygments_lexer": "ipython3",
   "version": "3.8.0"
  }
 },
 "nbformat": 4,
 "nbformat_minor": 5
}
